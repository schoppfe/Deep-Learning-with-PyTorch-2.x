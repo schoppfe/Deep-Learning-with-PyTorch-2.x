{
  "cells": [
    {
      "cell_type": "markdown",
      "metadata": {
        "id": "view-in-github",
        "colab_type": "text"
      },
      "source": [
        "<a href=\"https://colab.research.google.com/github/schoppfe/Deep-Learning-with-PyTorch-2.x/blob/main/03_Numpy_Refresher_Part_3.ipynb\" target=\"_parent\"><img src=\"https://colab.research.google.com/assets/colab-badge.svg\" alt=\"Open In Colab\"/></a>"
      ]
    },
    {
      "cell_type": "markdown",
      "metadata": {
        "id": "ou2mMA50HvHE"
      },
      "source": [
        "<h1 style=\"font-size:30px;\">Numpy Refresher (Part-3)</h1>\n",
        "\n",
        "- Element Wise Operations\n",
        "- Linear Algebra\n",
        "- Array Statistics\n",
        "\n",
        "\n",
        "<img src='https://opencv.org/wp-content/uploads/2023/05/c3_w1_NumPy_logo.jpg' width=\"75%\" align='left'><br/>"
      ]
    },
    {
      "cell_type": "code",
      "execution_count": 74,
      "metadata": {
        "id": "iei7FIbn35Sq"
      },
      "outputs": [],
      "source": [
        "import numpy as np\n",
        "\n",
        "def array_info(array):\n",
        "    print('Array:\\n{}'.format(array))\n",
        "    print('Data type:\\t{}'.format(array.dtype))\n",
        "    print('Array shape:\\t{}'.format(array.shape))\n",
        "    print('Array Dim:\\t{}\\n'.format(array.ndim))"
      ]
    },
    {
      "cell_type": "markdown",
      "metadata": {
        "id": "ib6ndOLfHvHp"
      },
      "source": [
        "## 1 Element-Wise Operations\n"
      ]
    },
    {
      "cell_type": "markdown",
      "metadata": {
        "id": "bEUU5DXSHvHp"
      },
      "source": [
        "Let's generate two random arrays to demonstrate element-wise operations."
      ]
    },
    {
      "cell_type": "code",
      "execution_count": 75,
      "metadata": {
        "id": "Z_4_wwpkHvHq",
        "outputId": "8cbe1924-bff6-4555-c438-fe5f90d08e0f",
        "colab": {
          "base_uri": "https://localhost:8080/"
        }
      },
      "outputs": [
        {
          "output_type": "stream",
          "name": "stdout",
          "text": [
            "Array:\n",
            "[[0.81438936 0.22318356 0.658406   0.34351964]\n",
            " [0.42434541 0.25905172 0.00237926 0.73115677]\n",
            " [0.47567357 0.03966374 0.74453787 0.10278557]\n",
            " [0.13699874 0.18638244 0.91892152 0.32962151]]\n",
            "Data type:\tfloat64\n",
            "Array shape:\t(4, 4)\n",
            "Array Dim:\t2\n",
            "\n",
            "Array:\n",
            "[[0.28878504 0.23250725 0.82291257 0.26864373]\n",
            " [0.86341837 0.33735882 0.88755807 0.00164647]\n",
            " [0.62039078 0.83213253 0.68995875 0.86441362]\n",
            " [0.09257575 0.96184738 0.8535929  0.37396105]]\n",
            "Data type:\tfloat64\n",
            "Array shape:\t(4, 4)\n",
            "Array Dim:\t2\n",
            "\n"
          ]
        }
      ],
      "source": [
        "a = np.random.random((4,4))\n",
        "b = np.random.random((4,4))\n",
        "array_info(a)\n",
        "array_info(b)"
      ]
    },
    {
      "cell_type": "markdown",
      "metadata": {
        "id": "TR3faxSTHvHq"
      },
      "source": [
        "### 1.1 Element-Wise Scalar Operations"
      ]
    },
    {
      "cell_type": "markdown",
      "metadata": {
        "id": "HCaBZ88vHvHq"
      },
      "source": [
        "### <font style=\"color:rgb(50,120,230)\">Scalar Addition</font>"
      ]
    },
    {
      "cell_type": "code",
      "execution_count": 76,
      "metadata": {
        "id": "PkG8aNxzHvHq",
        "outputId": "a6308f7c-c3d5-453b-c783-6c1722b23a63",
        "colab": {
          "base_uri": "https://localhost:8080/"
        }
      },
      "outputs": [
        {
          "output_type": "execute_result",
          "data": {
            "text/plain": [
              "array([[5.81438936, 5.22318356, 5.658406  , 5.34351964],\n",
              "       [5.42434541, 5.25905172, 5.00237926, 5.73115677],\n",
              "       [5.47567357, 5.03966374, 5.74453787, 5.10278557],\n",
              "       [5.13699874, 5.18638244, 5.91892152, 5.32962151]])"
            ]
          },
          "metadata": {},
          "execution_count": 76
        }
      ],
      "source": [
        "a + 5 # Element wise scalar addition."
      ]
    },
    {
      "cell_type": "markdown",
      "metadata": {
        "id": "YZi1QRPhHvHr"
      },
      "source": [
        "### <font style=\"color:rgb(50,120,230)\">Scalar Subtraction</font>"
      ]
    },
    {
      "cell_type": "code",
      "execution_count": 77,
      "metadata": {
        "id": "yu61UKprHvHr",
        "outputId": "47874da9-6078-4955-eb4c-22e7482a9de2",
        "colab": {
          "base_uri": "https://localhost:8080/"
        }
      },
      "outputs": [
        {
          "output_type": "execute_result",
          "data": {
            "text/plain": [
              "array([[-4.18561064, -4.77681644, -4.341594  , -4.65648036],\n",
              "       [-4.57565459, -4.74094828, -4.99762074, -4.26884323],\n",
              "       [-4.52432643, -4.96033626, -4.25546213, -4.89721443],\n",
              "       [-4.86300126, -4.81361756, -4.08107848, -4.67037849]])"
            ]
          },
          "metadata": {},
          "execution_count": 77
        }
      ],
      "source": [
        "a - 5 # Element wise scalar subtraction."
      ]
    },
    {
      "cell_type": "markdown",
      "metadata": {
        "id": "nq5YTQouHvHr"
      },
      "source": [
        "### <font style=\"color:rgb(50,120,230)\">Scalar Multiplication</font>"
      ]
    },
    {
      "cell_type": "code",
      "execution_count": 78,
      "metadata": {
        "id": "B5BkSNZuHvHv",
        "outputId": "6871a45a-9d41-45cf-9949-d345e33b6ff8",
        "colab": {
          "base_uri": "https://localhost:8080/"
        }
      },
      "outputs": [
        {
          "output_type": "execute_result",
          "data": {
            "text/plain": [
              "array([[8.14389355, 2.23183557, 6.58406004, 3.43519636],\n",
              "       [4.2434541 , 2.59051717, 0.02379255, 7.31156767],\n",
              "       [4.75673571, 0.39663742, 7.44537866, 1.02785568],\n",
              "       [1.36998737, 1.86382442, 9.18921518, 3.29621509]])"
            ]
          },
          "metadata": {},
          "execution_count": 78
        }
      ],
      "source": [
        "a * 10 # Element wise scalar multiplication."
      ]
    },
    {
      "cell_type": "markdown",
      "metadata": {
        "id": "1npInH3gHvHv"
      },
      "source": [
        "### <font style=\"color:rgb(50,120,230)\">Scalar Division</font>"
      ]
    },
    {
      "cell_type": "code",
      "execution_count": 79,
      "metadata": {
        "id": "mkoXE_-nHvHv",
        "outputId": "9c465a34-43a9-42f0-cc59-788878b39b26",
        "colab": {
          "base_uri": "https://localhost:8080/"
        }
      },
      "outputs": [
        {
          "output_type": "execute_result",
          "data": {
            "text/plain": [
              "array([[0.08143894, 0.02231836, 0.0658406 , 0.03435196],\n",
              "       [0.04243454, 0.02590517, 0.00023793, 0.07311568],\n",
              "       [0.04756736, 0.00396637, 0.07445379, 0.01027856],\n",
              "       [0.01369987, 0.01863824, 0.09189215, 0.03296215]])"
            ]
          },
          "metadata": {},
          "execution_count": 79
        }
      ],
      "source": [
        "a/10 # Element wise scalar division."
      ]
    },
    {
      "cell_type": "markdown",
      "metadata": {
        "id": "jHJRr1MNHvHv"
      },
      "source": [
        "### 1.2 Element-Wise Array Operations"
      ]
    },
    {
      "cell_type": "markdown",
      "metadata": {
        "id": "Bofpk58CHvHw"
      },
      "source": [
        "### <font style=\"color:rgb(50,120,230)\">Array Addition</font>"
      ]
    },
    {
      "cell_type": "code",
      "execution_count": 80,
      "metadata": {
        "id": "XKa_rsCEHvHw",
        "outputId": "60224caf-c9bb-4a24-8390-b5bf37be067a",
        "colab": {
          "base_uri": "https://localhost:8080/"
        }
      },
      "outputs": [
        {
          "output_type": "execute_result",
          "data": {
            "text/plain": [
              "array([[1.1031744 , 0.45569081, 1.48131857, 0.61216337],\n",
              "       [1.28776378, 0.59641054, 0.88993732, 0.73280323],\n",
              "       [1.09606435, 0.87179627, 1.43449662, 0.96719918],\n",
              "       [0.22957448, 1.14822982, 1.77251442, 0.70358256]])"
            ]
          },
          "metadata": {},
          "execution_count": 80
        }
      ],
      "source": [
        "a + b # Element wise array/vector addition."
      ]
    },
    {
      "cell_type": "markdown",
      "metadata": {
        "id": "ESSSSF91HvHy"
      },
      "source": [
        "### <font style=\"color:rgb(50,120,230)\">Array Subtraction</font>"
      ]
    },
    {
      "cell_type": "code",
      "execution_count": 81,
      "metadata": {
        "id": "z1Nh0f-VHvHy",
        "outputId": "aa1fa420-d492-41f4-9cfe-1ba57cb0a213",
        "colab": {
          "base_uri": "https://localhost:8080/"
        }
      },
      "outputs": [
        {
          "output_type": "execute_result",
          "data": {
            "text/plain": [
              "array([[ 0.52560431, -0.00932369, -0.16450657,  0.0748759 ],\n",
              "       [-0.43907296, -0.07830711, -0.88517881,  0.7295103 ],\n",
              "       [-0.14471721, -0.79246879,  0.05457912, -0.76162805],\n",
              "       [ 0.04442299, -0.77546494,  0.06532862, -0.04433955]])"
            ]
          },
          "metadata": {},
          "execution_count": 81
        }
      ],
      "source": [
        "a - b # Element wise array/vector subtraction."
      ]
    },
    {
      "cell_type": "markdown",
      "metadata": {
        "id": "fP6X8L1ZHvHy"
      },
      "source": [
        "### <font style=\"color:rgb(50,120,230)\">Array Multiplication</font>"
      ]
    },
    {
      "cell_type": "code",
      "execution_count": 82,
      "metadata": {
        "id": "9ZvWU6fjHvHy",
        "outputId": "037538f3-81b9-444b-e282-0f8887527fa1",
        "colab": {
          "base_uri": "https://localhost:8080/"
        }
      },
      "outputs": [
        {
          "output_type": "execute_result",
          "data": {
            "text/plain": [
              "array([[0.23518347, 0.0518918 , 0.54181058, 0.0922844 ],\n",
              "       [0.36638762, 0.08739338, 0.00211173, 0.00120383],\n",
              "       [0.2951035 , 0.03300549, 0.51370042, 0.08884924],\n",
              "       [0.01268276, 0.17927146, 0.78438488, 0.12326561]])"
            ]
          },
          "metadata": {},
          "execution_count": 82
        }
      ],
      "source": [
        "a * b # Element wise array/vector multiplication."
      ]
    },
    {
      "cell_type": "markdown",
      "metadata": {
        "id": "VDVd7xSiHvHz"
      },
      "source": [
        "### <font style=\"color:rgb(50,120,230)\">Array Division</font>"
      ]
    },
    {
      "cell_type": "code",
      "execution_count": 83,
      "metadata": {
        "id": "VI5scJuLHvHz",
        "outputId": "1489ec90-0a23-4955-8352-6eca6e28d251",
        "colab": {
          "base_uri": "https://localhost:8080/"
        }
      },
      "outputs": [
        {
          "output_type": "execute_result",
          "data": {
            "text/plain": [
              "array([[2.82005378e+00, 9.59899339e-01, 8.00092291e-01, 1.27871823e+00],\n",
              "       [4.91471370e-01, 7.67881851e-01, 2.68067559e-03, 4.44076308e+02],\n",
              "       [7.66732170e-01, 4.76651739e-02, 1.07910490e+00, 1.18907854e-01],\n",
              "       [1.47985559e+00, 1.93775484e-01, 1.07653369e+00, 8.81432719e-01]])"
            ]
          },
          "metadata": {},
          "execution_count": 83
        }
      ],
      "source": [
        "a / b # element wise array/vector division"
      ]
    },
    {
      "cell_type": "markdown",
      "metadata": {
        "id": "dWNN2R1mHvHz"
      },
      "source": [
        "Notice that the dimension of both arrays are equal in the above array element-wise operations. **What if the dimensions are not equal.** Let's check!"
      ]
    },
    {
      "cell_type": "code",
      "execution_count": 84,
      "metadata": {
        "id": "6lpnhqYEHvHz",
        "outputId": "43f3e9dc-55b3-4d22-a636-dd7f6b078000",
        "colab": {
          "base_uri": "https://localhost:8080/"
        }
      },
      "outputs": [
        {
          "output_type": "stream",
          "name": "stdout",
          "text": [
            "Array \"a\":\n",
            "Array:\n",
            "[[0.81438936 0.22318356 0.658406   0.34351964]\n",
            " [0.42434541 0.25905172 0.00237926 0.73115677]\n",
            " [0.47567357 0.03966374 0.74453787 0.10278557]\n",
            " [0.13699874 0.18638244 0.91892152 0.32962151]]\n",
            "Data type:\tfloat64\n",
            "Array shape:\t(4, 4)\n",
            "Array Dim:\t2\n",
            "\n",
            "Array \"c\":\n",
            "Array:\n",
            "[[0.97448971 0.33655222 0.03850298 0.32966448]\n",
            " [0.35859052 0.07120541 0.56116738 0.42190106]]\n",
            "Data type:\tfloat64\n",
            "Array shape:\t(2, 4)\n",
            "Array Dim:\t2\n",
            "\n"
          ]
        },
        {
          "output_type": "stream",
          "name": "stderr",
          "text": [
            "Traceback (most recent call last):\n",
            "  File \"<ipython-input-84-db3a8552b781>\", line 10, in <cell line: 9>\n",
            "    a + c\n",
            "ValueError: operands could not be broadcast together with shapes (4,4) (2,4) \n"
          ]
        }
      ],
      "source": [
        "print('Array \"a\":')\n",
        "array_info(a)\n",
        "print('Array \"c\":')\n",
        "c = np.random.rand(2, 4)\n",
        "array_info(c)\n",
        "\n",
        "# Should throw ValueError.\n",
        "import traceback\n",
        "try:\n",
        "    a + c\n",
        "except Exception:\n",
        "    traceback.print_exc()"
      ]
    },
    {
      "cell_type": "markdown",
      "metadata": {
        "id": "TJJByIVLHvHz"
      },
      "source": [
        "<font color='red'>**Oh, got the ValueError!!**</font>\n",
        "\n",
        "What is this error?\n",
        "\n",
        "<font color='red'>ValueError</font>: operands could not be broadcast together with shapes `(4,4)` `(2,2)`"
      ]
    },
    {
      "cell_type": "markdown",
      "metadata": {
        "id": "-Tfs85kWHvH0"
      },
      "source": [
        "### 1.3 Broadcasting\n",
        "\n",
        "There is a concept of broadcasting in NumPy, which tries to copy rows or columns in the lower-dimensional array to make an equal dimensional array of higher-dimensional array.\n",
        "\n",
        "<hr style=\"border:none; height: 4px; background-color:#D3D3D3\" />\n",
        "\n",
        "Documentation: <a href=\"https://numpy.org/doc/stable/user/basics.broadcasting.html\" target=_blank>broadcasting</a>\n",
        "\n",
        "When operating on two arrays, NumPy compares their shapes element-wise. It starts with the trailing (i.e., rightmost) dimensions and works its way left. Two dimensions are compatible when:\n",
        "\n",
        " - They are equal, or\n",
        " - One of them is 1\n",
        "\n",
        "The examples below show how `B` is successfully broadcasted to `A` according to the rules above.\n",
        "\n",
        "``` python\n",
        "A      (2d array):  5 x 4\n",
        "B      (1d array):      1\n",
        "Result (2d array):  5 x 4\n",
        "\n",
        "A      (2d array):  5 x 4\n",
        "B      (1d array):      4\n",
        "Result (2d array):  5 x 4\n",
        "\n",
        "A      (3d array):  15 x 3 x 5\n",
        "B      (3d array):  15 x 1 x 5\n",
        "Result (3d array):  15 x 3 x 5\n",
        "\n",
        "A      (3d array):  15 x 3 x 5\n",
        "B      (2d array):       3 x 5\n",
        "Result (3d array):  15 x 3 x 5\n",
        "\n",
        "A      (3d array):  15 x 3 x 5\n",
        "B      (2d array):       3 x 1\n",
        "Result (3d array):  15 x 3 x 5\n",
        "```\n",
        "\n",
        "<hr style=\"border:none; height: 4px; background-color:#D3D3D3\" />"
      ]
    },
    {
      "cell_type": "code",
      "execution_count": 85,
      "metadata": {
        "id": "BO7iCn7WHvH0",
        "outputId": "905f4427-399e-4145-9bac-15469cf039fc",
        "colab": {
          "base_uri": "https://localhost:8080/"
        }
      },
      "outputs": [
        {
          "output_type": "stream",
          "name": "stdout",
          "text": [
            "Array \"a\":\n",
            "Array:\n",
            "[[1 2 3]\n",
            " [4 5 6]\n",
            " [7 8 9]]\n",
            "Data type:\tint64\n",
            "Array shape:\t(3, 3)\n",
            "Array Dim:\t2\n",
            "\n",
            "Array \"b\":\n",
            "Array:\n",
            "[0 1 0]\n",
            "Data type:\tint64\n",
            "Array shape:\t(3,)\n",
            "Array Dim:\t1\n",
            "\n",
            "Array \"a+b\":\n",
            "Array:\n",
            "[[1 3 3]\n",
            " [4 6 6]\n",
            " [7 9 9]]\n",
            "Data type:\tint64\n",
            "Array shape:\t(3, 3)\n",
            "Array Dim:\t2\n",
            "\n"
          ]
        }
      ],
      "source": [
        "a = np.array([[1, 2, 3], [4, 5, 6],[7, 8, 9]])\n",
        "b = np.array([0, 1, 0])\n",
        "\n",
        "print('Array \"a\":')\n",
        "array_info(a)\n",
        "print('Array \"b\":')\n",
        "array_info(b)\n",
        "\n",
        "print('Array \"a+b\":')\n",
        "array_info(a + b)  # b is reshaped such that it can be added to a.\n",
        "\n",
        "# b = [0,1,0] is broadcasted to     [[0, 1, 0],\n",
        "#                                    [0, 1, 0],\n",
        "#                                    [0, 1, 0]]  and added to a."
      ]
    },
    {
      "cell_type": "markdown",
      "metadata": {
        "id": "QpgY47AtHvH0"
      },
      "source": [
        "## 2 Linear Algebra\n",
        "\n",
        "In this section, we will take a look at the most commonly used linear algebra operations used in machine learning."
      ]
    },
    {
      "cell_type": "markdown",
      "metadata": {
        "id": "0QzeoEJjHvH0"
      },
      "source": [
        "## 2.1 Transpose\n",
        "\n",
        "<hr style=\"border:none; height: 4px; background-color:#D3D3D3\" />\n",
        "\n",
        "Either syntax below can be used:\n",
        "\n",
        "``` python\n",
        "result = np.transpose(a, axes=None)\n",
        "\n",
        "result = a.transpose(*axes)\n",
        "\n",
        "result = a.T\n",
        "```\n",
        "\n",
        "Returns a view of the NumPy array `a` with axes transposed.\n",
        "\n",
        "Documentation: <a href=\"https://numpy.org/doc/stable/reference/generated/numpy.transpose.html\" target=_blank>np.transpose</a>\n",
        "\n",
        "<hr style=\"border:none; height: 4px; background-color:#D3D3D3\" />\n"
      ]
    },
    {
      "cell_type": "code",
      "execution_count": 86,
      "metadata": {
        "id": "r5go-3TdHvH0",
        "outputId": "06a7e0e8-2b04-4c61-9d2c-8fba4220eb1c",
        "colab": {
          "base_uri": "https://localhost:8080/"
        }
      },
      "outputs": [
        {
          "output_type": "stream",
          "name": "stdout",
          "text": [
            "Array \"a\":\n",
            "Array:\n",
            "[[0.32995527 0.1083314  0.51513882]\n",
            " [0.43994486 0.91787673 0.30879136]]\n",
            "Data type:\tfloat64\n",
            "Array shape:\t(2, 3)\n",
            "Array Dim:\t2\n",
            "\n",
            "Transose of \"a\":\n",
            "Array:\n",
            "[[0.32995527 0.43994486]\n",
            " [0.1083314  0.91787673]\n",
            " [0.51513882 0.30879136]]\n",
            "Data type:\tfloat64\n",
            "Array shape:\t(3, 2)\n",
            "Array Dim:\t2\n",
            "\n"
          ]
        }
      ],
      "source": [
        "a = np.random.random((2,3))\n",
        "print('Array \"a\":')\n",
        "array_info(a)\n",
        "\n",
        "print('Transose of \"a\":')\n",
        "a_transpose = a.transpose()  # Or a.T\n",
        "array_info(a_transpose)"
      ]
    },
    {
      "cell_type": "markdown",
      "metadata": {
        "id": "qsKNn9Y6HvH1"
      },
      "source": [
        "### 2.2 Matrix Multiplication\n",
        "We will discuss two ways of performing matrix multiplication.\n",
        "\n",
        "- `np.matmul`\n",
        "- Python `@` operator\n",
        "\n",
        "### <font style=\"color:rgb(50,120,230)\">Using: `matmul`</font>\n",
        "\n",
        "<hr style=\"border:none; height: 4px; background-color:#D3D3D3\" />\n",
        "\n",
        "Using `matmul` is the most common approach for multiplying two matrices using Numpy. Multiplying two matrices requires that the number of columns of the first matrix, `M`, equals the number of rows in the second matrix, `N`, as shown below.\n",
        "\n",
        "``` python\n",
        "   M        N      \n",
        "[p, q] x [q, r] = [p , r]\n",
        "```\n",
        "Documentation: <a href=\"https://numpy.org/doc/stable/reference/generated/numpy.matmul.html\" target=_blank>np.matmul</a>\n",
        "\n",
        "<hr style=\"border:none; height: 4px; background-color:#D3D3D3\" />"
      ]
    },
    {
      "cell_type": "code",
      "execution_count": 87,
      "metadata": {
        "id": "k7MrCHnDHvH1",
        "outputId": "975367b8-f667-4542-84a2-71bcc1e7601a",
        "colab": {
          "base_uri": "https://localhost:8080/"
        }
      },
      "outputs": [
        {
          "output_type": "stream",
          "name": "stdout",
          "text": [
            "Array \"a\":\n",
            "Array:\n",
            "[[0.74270484 0.4022666  0.58624174 0.6882571 ]\n",
            " [0.08667922 0.15258479 0.5975048  0.48860495]\n",
            " [0.26417607 0.98158362 0.0353965  0.19105891]]\n",
            "Data type:\tfloat64\n",
            "Array shape:\t(3, 4)\n",
            "Array Dim:\t2\n",
            "\n",
            "Array \"b\"\n",
            "Array:\n",
            "[[0.89080478 0.29905591]\n",
            " [0.50180136 0.01568698]\n",
            " [0.93757613 0.28138025]\n",
            " [0.06932664 0.59926481]]\n",
            "Data type:\tfloat64\n",
            "Array shape:\t(4, 2)\n",
            "Array Dim:\t2\n",
            "\n",
            "1.6 µs ± 389 ns per loop (mean ± std. dev. of 7 runs, 100000 loops each)\n",
            "matrix multiplication of a and b:\n",
            "Array:\n",
            "[[0.97448971 0.33655222 0.03850298 0.32966448]\n",
            " [0.35859052 0.07120541 0.56116738 0.42190106]]\n",
            "Data type:\tfloat64\n",
            "Array shape:\t(2, 4)\n",
            "Array Dim:\t2\n",
            "\n",
            "(3, 4) x (4, 2) --> (2, 4)\n"
          ]
        }
      ],
      "source": [
        "a = np.random.random((3, 4))\n",
        "b = np.random.random((4, 2))\n",
        "\n",
        "print('Array \"a\":')\n",
        "array_info(a)\n",
        "print('Array \"b\"')\n",
        "array_info(b)\n",
        "\n",
        "# Matrix multiplication of a and b.\n",
        "%timeit \\\n",
        "c = np.matmul(a,b)\n",
        "\n",
        "print('matrix multiplication of a and b:')\n",
        "array_info(c)\n",
        "\n",
        "print('{} x {} --> {}'.format(a.shape, b.shape, c.shape)) # dim-1 of a and dim-0 of b has to be\n",
        "                                                          # same for matrix multiplication"
      ]
    },
    {
      "cell_type": "markdown",
      "metadata": {
        "id": "bWkSiPrhHvH1"
      },
      "source": [
        "### <font style=\"color:rgb(50,120,230)\">Using: `@` operator</font>\n",
        "\n",
        "This method of multiplication was introduced in Python 3.5. <a href=\"https://www.python.org/dev/peps/pep-0465/\" target=_blank>See docs</a>."
      ]
    },
    {
      "cell_type": "code",
      "execution_count": 88,
      "metadata": {
        "id": "dEgb2I7hHvH1",
        "outputId": "aca0e95c-428c-41d7-fda2-7a35c312bd96",
        "colab": {
          "base_uri": "https://localhost:8080/"
        }
      },
      "outputs": [
        {
          "output_type": "stream",
          "name": "stdout",
          "text": [
            "Array \"a\":\n",
            "Array:\n",
            "[[0.05035001 0.14321252 0.63092844 0.84218979]\n",
            " [0.9961781  0.01827706 0.21959994 0.08008653]\n",
            " [0.07720074 0.80500972 0.35354866 0.35584518]]\n",
            "Data type:\tfloat64\n",
            "Array shape:\t(3, 4)\n",
            "Array Dim:\t2\n",
            "\n",
            "Array \"b\"\n",
            "Array:\n",
            "[[0.46343197 0.68196642]\n",
            " [0.20405306 0.11142957]\n",
            " [0.55121335 0.39729783]\n",
            " [0.8142946  0.01824059]]\n",
            "Data type:\tfloat64\n",
            "Array shape:\t(4, 2)\n",
            "Array Dim:\t2\n",
            "\n",
            "1.82 µs ± 559 ns per loop (mean ± std. dev. of 7 runs, 1000000 loops each)\n",
            "Array:\n",
            "[[0.97448971 0.33655222 0.03850298 0.32966448]\n",
            " [0.35859052 0.07120541 0.56116738 0.42190106]]\n",
            "Data type:\tfloat64\n",
            "Array shape:\t(2, 4)\n",
            "Array Dim:\t2\n",
            "\n"
          ]
        }
      ],
      "source": [
        "a = np.random.random((3, 4))\n",
        "b = np.random.random((4, 2))\n",
        "\n",
        "print('Array \"a\":')\n",
        "array_info(a)\n",
        "print('Array \"b\"')\n",
        "array_info(b)\n",
        "\n",
        "# Matrix multiplication of a and b.\n",
        "%timeit \\\n",
        "c = a@b\n",
        "array_info(c)"
      ]
    },
    {
      "cell_type": "markdown",
      "metadata": {
        "id": "iIWu52Pn35S0"
      },
      "source": [
        "### 2.3 Matrix Inverse\n",
        "\n",
        "<hr style=\"border:none; height: 4px; background-color:#D3D3D3\" />\n",
        "\n",
        "``` python\n",
        "np.linalg.inv(a)\n",
        "```\n",
        "\n",
        "For a square matrix, `a`, compute the (multiplicative) inverse of a matrix.\n",
        "\n",
        "Documentation: <a href=\"https://numpy.org/doc/stable/reference/generated/numpy.linalg.inv.html\" target=_blank>np.linalg.inv</a>\n",
        "\n",
        "<hr style=\"border:none; height: 4px; background-color:#D3D3D3\" />\n"
      ]
    },
    {
      "cell_type": "code",
      "execution_count": 89,
      "metadata": {
        "id": "NZaXtR-uHvH2",
        "outputId": "51945b66-20ef-491b-9164-2767f75774a6",
        "colab": {
          "base_uri": "https://localhost:8080/"
        }
      },
      "outputs": [
        {
          "output_type": "stream",
          "name": "stdout",
          "text": [
            "Array \"A\":\n",
            "Array:\n",
            "[[0.25183456 0.8510045  0.97038336]\n",
            " [0.77502945 0.98702725 0.8931241 ]\n",
            " [0.91138044 0.22907147 0.37277938]]\n",
            "Data type:\tfloat64\n",
            "Array shape:\t(3, 3)\n",
            "Array Dim:\t2\n",
            "\n",
            "Inverse of \"A\" (\"A_inverse\"):\n",
            "Array:\n",
            "[[-0.76811447  0.44646741  0.9298119 ]\n",
            " [-2.46891063  3.71708884 -2.47876321]\n",
            " [ 3.39504155 -3.3756713   1.93251446]]\n",
            "Data type:\tfloat64\n",
            "Array shape:\t(3, 3)\n",
            "Array Dim:\t2\n",
            "\n",
            "\"A x A_inverse = Identity\" should be true:\n",
            "Array:\n",
            "[[ 1.00000000e+00  3.30502210e-16  1.87268227e-16]\n",
            " [ 1.15023099e-16  1.00000000e+00 -7.57627420e-17]\n",
            " [ 7.49899295e-18 -6.06368286e-17  1.00000000e+00]]\n",
            "Data type:\tfloat64\n",
            "Array shape:\t(3, 3)\n",
            "Array Dim:\t2\n",
            "\n"
          ]
        }
      ],
      "source": [
        "A = np.random.random((3,3))\n",
        "print('Array \"A\":')\n",
        "array_info(A)\n",
        "\n",
        "A_inverse = np.linalg.inv(A)\n",
        "print('Inverse of \"A\" (\"A_inverse\"):')\n",
        "array_info(A_inverse)\n",
        "\n",
        "print('\"A x A_inverse = Identity\" should be true:')\n",
        "A_X_A_inverse = np.matmul(A, A_inverse)  # A x A_inverse = I = Identity matrix\n",
        "array_info(A_X_A_inverse)"
      ]
    },
    {
      "cell_type": "markdown",
      "metadata": {
        "id": "dZ8RyI11HvH2"
      },
      "source": [
        "### 2.4 Dot Product\n",
        "\n",
        "The dot product between two euqal length vectors is a scalar defined by the sum of the element-wise product of the two vectors.\n",
        "\n",
        "<hr style=\"border:none; height: 4px; background-color:#D3D3D3\" />\n",
        "\n",
        "``` python\n",
        "np.dot(a, b, out=None)\n",
        "```\n",
        "\n",
        "\n",
        "Documentation: <a href=\"https://numpy.org/doc/stable/reference/generated/numpy.dot.html\" target=_blank>np.dot</a>\n",
        "\n",
        "<hr style=\"border:none; height: 4px; background-color:#D3D3D3\" />\n"
      ]
    },
    {
      "cell_type": "code",
      "execution_count": 90,
      "metadata": {
        "id": "b1iIv5FaHvH2",
        "outputId": "0545e220-f771-4d3b-f0b8-cf53f0630f09",
        "colab": {
          "base_uri": "https://localhost:8080/"
        }
      },
      "outputs": [
        {
          "output_type": "stream",
          "name": "stdout",
          "text": [
            "Array:\n",
            "[1 2 3 4]\n",
            "Data type:\tint64\n",
            "Array shape:\t(4,)\n",
            "Array Dim:\t1\n",
            "\n",
            "Array:\n",
            "[5 6 7 8]\n",
            "Data type:\tint64\n",
            "Array shape:\t(4,)\n",
            "Array Dim:\t1\n",
            "\n",
            "Array:\n",
            "70\n",
            "Data type:\tint64\n",
            "Array shape:\t()\n",
            "Array Dim:\t0\n",
            "\n"
          ]
        }
      ],
      "source": [
        "a = np.array([1, 2, 3, 4])\n",
        "b = np.array([5, 6, 7, 8])\n",
        "\n",
        "array_info(a)\n",
        "array_info(b)\n",
        "\n",
        "dot_prod = np.dot(a, b)\n",
        "array_info(dot_prod)"
      ]
    },
    {
      "cell_type": "markdown",
      "metadata": {
        "id": "8cjIE8hGHvH3"
      },
      "source": [
        "## 3 Array Statistics"
      ]
    },
    {
      "cell_type": "markdown",
      "metadata": {
        "id": "-HOjs-cVHvH3"
      },
      "source": [
        "### 3.1 Sum"
      ]
    },
    {
      "cell_type": "code",
      "execution_count": 91,
      "metadata": {
        "id": "Qdzq9ul7HvH3",
        "outputId": "13e26aac-df52-4659-999f-993edf7983c4",
        "colab": {
          "base_uri": "https://localhost:8080/"
        }
      },
      "outputs": [
        {
          "output_type": "stream",
          "name": "stdout",
          "text": [
            "15\n"
          ]
        }
      ],
      "source": [
        "a = np.array([1, 2, 3, 4, 5])\n",
        "\n",
        "print(a.sum())"
      ]
    },
    {
      "cell_type": "markdown",
      "metadata": {
        "id": "6now4zePHvH3"
      },
      "source": [
        "### 3.2 Sum Along Axis"
      ]
    },
    {
      "cell_type": "code",
      "execution_count": 92,
      "metadata": {
        "id": "ul2TJrxRHvH3",
        "outputId": "a076d947-0205-43bd-d19f-c6d9dec96c26",
        "colab": {
          "base_uri": "https://localhost:8080/"
        }
      },
      "outputs": [
        {
          "output_type": "stream",
          "name": "stdout",
          "text": [
            "Array:\n",
            "[[1 2 3]\n",
            " [4 5 6]]\n",
            "Data type:\tint64\n",
            "Array shape:\t(2, 3)\n",
            "Array Dim:\t2\n",
            "\n",
            "\n",
            "sum along axis=0:  [5 7 9]\n",
            "\n",
            "sum along axis=1:  [ 6 15]\n"
          ]
        }
      ],
      "source": [
        "a = np.array([[1, 2, 3], [4, 5, 6]])\n",
        "array_info(a)\n",
        "print('')\n",
        "\n",
        "print('sum along axis=0: ',a.sum(axis = 0)) # Sum along axis=0 ie: 1+4, 2+5, 3+6\n",
        "print(\"\")\n",
        "print('sum along axis=1: ',a.sum(axis = 1)) # Sum along axis=1 ie: 1+2+3, 4+5+6"
      ]
    },
    {
      "cell_type": "markdown",
      "metadata": {
        "id": "hOCEcGgpHvH4"
      },
      "source": [
        "### 3.3 Minimum and Maximum"
      ]
    },
    {
      "cell_type": "code",
      "execution_count": 93,
      "metadata": {
        "id": "0hqHKLRdHvH4",
        "outputId": "bc08a7af-2e3c-4960-c643-edd0aeb9ea2e",
        "colab": {
          "base_uri": "https://localhost:8080/"
        }
      },
      "outputs": [
        {
          "output_type": "stream",
          "name": "stdout",
          "text": [
            "Minimum =  -1.1\n",
            "Maximum =  100.0\n"
          ]
        }
      ],
      "source": [
        "a = np.array([-1.1, 2, 5, 100])\n",
        "\n",
        "print('Minimum = ', a.min())\n",
        "print('Maximum = ', a.max())"
      ]
    },
    {
      "cell_type": "markdown",
      "metadata": {
        "id": "gfg1O0-5HvH4"
      },
      "source": [
        "### 3.4 Min and Max along Axis"
      ]
    },
    {
      "cell_type": "code",
      "execution_count": 94,
      "metadata": {
        "id": "HTINIBoCHvH4",
        "outputId": "d7bfa0fd-eb4d-4a56-966d-f5372e51ef8f",
        "colab": {
          "base_uri": "https://localhost:8080/"
        }
      },
      "outputs": [
        {
          "output_type": "stream",
          "name": "stdout",
          "text": [
            "Array:\n",
            "[[-2  0  4]\n",
            " [ 1  2  3]]\n",
            "Data type:\tint64\n",
            "Array shape:\t(2, 3)\n",
            "Array Dim:\t2\n",
            "\n",
            "a =\n",
            " [[-2  0  4]\n",
            " [ 1  2  3]] \n",
            "\n",
            "Minimum =  -2\n",
            "Maximum =  4\n",
            "\n",
            "Minimum along axis 0 =  [-2  0  3]\n",
            "Maximum along axis 0 =  [1 2 4]\n",
            "\n",
            "Minimum along axis 1 =  [-2  1]\n",
            "Maximum along axis 1 =  [4 3]\n"
          ]
        }
      ],
      "source": [
        "a = np.array([[-2, 0, 4], [1, 2, 3]])\n",
        "\n",
        "array_info(a)\n",
        "\n",
        "print('a =\\n',a,'\\n')\n",
        "print('Minimum = ', a.min())\n",
        "print('Maximum = ', a.max())\n",
        "print()\n",
        "print('Minimum along axis 0 = ', a.min(0))\n",
        "print('Maximum along axis 0 = ', a.max(0))\n",
        "print()\n",
        "print('Minimum along axis 1 = ', a.min(1))\n",
        "print('Maximum along axis 1 = ', a.max(1))"
      ]
    },
    {
      "cell_type": "markdown",
      "metadata": {
        "id": "duzWUeVcHvH5"
      },
      "source": [
        "### 3.5 Mean and Standard Deviation"
      ]
    },
    {
      "cell_type": "code",
      "execution_count": 95,
      "metadata": {
        "id": "SMBfODD6HvH5",
        "outputId": "8a8ec31a-81b6-410c-8465-3d260193c01e",
        "colab": {
          "base_uri": "https://localhost:8080/"
        }
      },
      "outputs": [
        {
          "output_type": "stream",
          "name": "stdout",
          "text": [
            "Mean of the array               = 3.133333\n",
            "Standard deviation of the array = 1.684900\n"
          ]
        }
      ],
      "source": [
        "# Create some data.\n",
        "data = np.array([1.2, 2.3, 5.0, 3.3, 1.4, 5.6])\n",
        "\n",
        "print('Mean of the array               = {:8.6f}'.format(data.mean()))\n",
        "print('Standard deviation of the array = {:8.6f}'.format(data.std()))"
      ]
    },
    {
      "cell_type": "markdown",
      "metadata": {
        "id": "N0ymt6ICHvH5"
      },
      "source": [
        "### 3.6 Standardizing an Array\n",
        "\n",
        "Normalize the data array to have `mean=0` and `std=1`."
      ]
    },
    {
      "cell_type": "code",
      "execution_count": 96,
      "metadata": {
        "id": "n3x7_N59HvH5",
        "outputId": "0798f2c1-b854-4968-8b0a-7c2090fe2d00",
        "colab": {
          "base_uri": "https://localhost:8080/"
        }
      },
      "outputs": [
        {
          "output_type": "stream",
          "name": "stdout",
          "text": [
            "Array              =  [1.2 2.3 5.  3.3 1.4 5.6]\n",
            "Mean               = 3.133333\n",
            "Standard deviation = 1.684900\n",
            "\n",
            "Standardized Array =  [-1.14744675 -0.49458912  1.10787962  0.09891782 -1.02874536  1.46398379]\n",
            "Mean               = -0.000000\n",
            "Standard deviation = 1.000000\n"
          ]
        }
      ],
      "source": [
        "print('Array              = ', data)\n",
        "print('Mean               = {:8.6f}'.format(data.mean()))\n",
        "print('Standard deviation = {:8.6f}'.format(data.std()))\n",
        "print()\n",
        "\n",
        "standardized_array = (data - data.mean())/data.std()\n",
        "\n",
        "print('Standardized Array = ', standardized_array)\n",
        "print('Mean               = {:8.6f}'.format(standardized_array.mean()))\n",
        "print('Standard deviation = {:8.6f}'.format(standardized_array.std()))"
      ]
    },
    {
      "cell_type": "code",
      "execution_count": 96,
      "metadata": {
        "id": "LN9ohY1uHvH6"
      },
      "outputs": [],
      "source": []
    }
  ],
  "metadata": {
    "colab": {
      "provenance": [],
      "include_colab_link": true
    },
    "jupytext": {
      "encoding": "# -*- coding: utf-8 -*-",
      "formats": "ipynb,py:light"
    },
    "kernelspec": {
      "display_name": "Python 3 (ipykernel)",
      "language": "python",
      "name": "python3"
    },
    "language_info": {
      "codemirror_mode": {
        "name": "ipython",
        "version": 3
      },
      "file_extension": ".py",
      "mimetype": "text/x-python",
      "name": "python",
      "nbconvert_exporter": "python",
      "pygments_lexer": "ipython3",
      "version": "3.10.10"
    },
    "latex_envs": {
      "LaTeX_envs_menu_present": true,
      "autoclose": false,
      "autocomplete": true,
      "bibliofile": "biblio.bib",
      "cite_by": "apalike",
      "current_citInitial": 1,
      "eqLabelWithNumbers": true,
      "eqNumInitial": 1,
      "hotkeys": {
        "equation": "Ctrl-E",
        "itemize": "Ctrl-I"
      },
      "labels_anchors": false,
      "latex_user_defs": false,
      "report_style_numbering": false,
      "user_envs_cfg": false
    },
    "toc": {
      "base_numbering": 1,
      "nav_menu": {},
      "number_sections": true,
      "sideBar": true,
      "skip_h1_title": false,
      "title_cell": "Table of Contents",
      "title_sidebar": "Contents",
      "toc_cell": false,
      "toc_position": {},
      "toc_section_display": true,
      "toc_window_display": false
    },
    "varInspector": {
      "cols": {
        "lenName": 16,
        "lenType": 16,
        "lenVar": 40
      },
      "kernels_config": {
        "python": {
          "delete_cmd_postfix": "",
          "delete_cmd_prefix": "del ",
          "library": "var_list.py",
          "varRefreshCmd": "print(var_dic_list())"
        },
        "r": {
          "delete_cmd_postfix": ") ",
          "delete_cmd_prefix": "rm(",
          "library": "var_list.r",
          "varRefreshCmd": "cat(var_dic_list()) "
        }
      },
      "types_to_exclude": [
        "module",
        "function",
        "builtin_function_or_method",
        "instance",
        "_Feature"
      ],
      "window_display": false
    }
  },
  "nbformat": 4,
  "nbformat_minor": 0
}