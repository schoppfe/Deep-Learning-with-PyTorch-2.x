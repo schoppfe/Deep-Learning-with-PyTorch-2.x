{
  "cells": [
    {
      "cell_type": "markdown",
      "metadata": {
        "id": "view-in-github",
        "colab_type": "text"
      },
      "source": [
        "<a href=\"https://colab.research.google.com/github/schoppfe/Deep-Learning-with-PyTorch-2.x/blob/main/01_Numpy_Refresher_Part_1.ipynb\" target=\"_parent\"><img src=\"https://colab.research.google.com/assets/colab-badge.svg\" alt=\"Open In Colab\"/></a>"
      ]
    },
    {
      "cell_type": "markdown",
      "metadata": {
        "id": "ou2mMA50HvHE"
      },
      "source": [
        "<h1 style=\"font-size:30px;\">Numpy Refresher (Part-1)</h1>\n",
        "\n",
        "- Why NumPy?\n",
        "- Performance Comparison\n",
        "- NumPy Basics\n",
        "- Mathematical Functions\n",
        "\n",
        "\n",
        "<img src='https://opencv.org/wp-content/uploads/2023/05/c3_w1_NumPy_logo.jpg' width=\"75%\" align='left'><br/>"
      ]
    },
    {
      "cell_type": "markdown",
      "metadata": {
        "id": "niPpAYhxHvHJ"
      },
      "source": [
        "## 1 Why do we need a special library for math and DL?\n",
        "Python provides data types such as lists / tuples out of the box. Then, why are we using special libraries for deep learning tasks, such as Pytorch or TensorFlow, and not using standard types?\n",
        "\n",
        "The major reason is efficiency - In pure python, there are no primitive types for numbers, as there are in other languages (e.g., C/C++). All the data types in Python are objects with lots of properties and methods. You can see it using the `dir` function:"
      ]
    },
    {
      "cell_type": "code",
      "execution_count": null,
      "metadata": {
        "id": "sEWUwCDjHvHK",
        "outputId": "168dc026-e1d4-4154-ef16-468f4c4f04f7"
      },
      "outputs": [
        {
          "name": "stdout",
          "output_type": "stream",
          "text": [
            "72\n"
          ]
        },
        {
          "data": {
            "text/plain": [
              "['as_integer_ratio',\n",
              " 'bit_count',\n",
              " 'bit_length',\n",
              " 'conjugate',\n",
              " 'denominator',\n",
              " 'from_bytes',\n",
              " 'imag',\n",
              " 'numerator',\n",
              " 'real',\n",
              " 'to_bytes']"
            ]
          },
          "execution_count": 1,
          "metadata": {},
          "output_type": "execute_result"
        }
      ],
      "source": [
        "a = 3\n",
        "print(len(dir(a)))\n",
        "dir(a)[-10:]"
      ]
    },
    {
      "cell_type": "markdown",
      "metadata": {
        "id": "DRvZocJHHvHM"
      },
      "source": [
        "### 1.1 Python Performance Issues\n",
        "\n",
        "- Slow in tasks that require a lot of simple math operations on numbers\n",
        "- Huge memory overhead due to storing plain numbers as objects\n",
        "- Runtime overhead during memory dereferencing - cache issues\n",
        "\n",
        "NumPy is an abbreviation for \"numerical python\" and as the naming indicates, it provides a rich collection of operations for numerical data types with a Python interface. The core data structure of NumPy is `ndarray` - a multidimensional array. Let's take a look at its interface in comparison with plain python lists."
      ]
    },
    {
      "cell_type": "markdown",
      "metadata": {
        "id": "D-32F7lfHvHN"
      },
      "source": [
        "## 2 Performance Comparison: NumPy Arrays vs Python Lists\n",
        "\n",
        "Let's imagine a simple task - we have several 2-dimensional points and we want to represent them as a list of points for further processing. For the sake of simplicity, we will not create a `Point` object and will instead use a list where each 'point' in the list is another list that contains the coordinates of each point (`x` and `y`):"
      ]
    },
    {
      "cell_type": "code",
      "execution_count": null,
      "metadata": {
        "id": "-EZ-faXHHvHO",
        "outputId": "79529d67-7dec-4da7-c6c0-a393fd2582cd"
      },
      "outputs": [
        {
          "data": {
            "text/plain": [
              "[[0, 1], [10, 5], [7, 3]]"
            ]
          },
          "execution_count": 2,
          "metadata": {},
          "output_type": "execute_result"
        }
      ],
      "source": [
        "# Create points list using explicit specification of coordinates of each point.\n",
        "points = [[0, 1], [10, 5], [7, 3]]\n",
        "points"
      ]
    },
    {
      "cell_type": "markdown",
      "metadata": {
        "id": "DoqDo4GPlWmY"
      },
      "source": [
        "### <font color=\"CornFlowerBlue\">Random Integers</font>\n",
        "\n",
        "<hr style=\"border:none; height: 4px; background-color:#D3D3D3\" />\n",
        "\n",
        "``` python\n",
        "random.randint(a, b)\n",
        "```\n",
        "\n",
        "Return a random integer *N* such that `a <= N <= b`.\n",
        "\n",
        "Documentation: <a href=\"https://docs.python.org/3/library/random.html?highlight=randint#random.randint\" target=_blank>random.randint</a>\n",
        "\n",
        "<hr style=\"border:none; height: 4px; background-color:#D3D3D3\" />"
      ]
    },
    {
      "cell_type": "code",
      "execution_count": null,
      "metadata": {
        "id": "aQB0lsiNHvHP",
        "outputId": "8b677f49-cc7c-447d-9e60-c644c56ec8a7"
      },
      "outputs": [
        {
          "data": {
            "text/plain": [
              "[[9, 9],\n",
              " [5, 18],\n",
              " [6, 47],\n",
              " [7, 23],\n",
              " [6, 16],\n",
              " [7, 45],\n",
              " [3, 5],\n",
              " [2, 27],\n",
              " [4, 42],\n",
              " [8, 35]]"
            ]
          },
          "execution_count": 3,
          "metadata": {},
          "output_type": "execute_result"
        }
      ],
      "source": [
        "# Create random points.\n",
        "from random import randint\n",
        "\n",
        "num_points = 10\n",
        "x_range = (0, 10)\n",
        "y_range = (0, 50)\n",
        "points = [[randint(*x_range), randint(*y_range)] for _ in range(num_points)]\n",
        "points"
      ]
    },
    {
      "cell_type": "markdown",
      "metadata": {
        "id": "nlglC2T5HvHQ"
      },
      "source": [
        "In the example below, we demonstrate how we can convert a Python list to A NumPy `ndarray`."
      ]
    },
    {
      "cell_type": "code",
      "execution_count": null,
      "metadata": {
        "id": "iNsjLtWoHvHR",
        "outputId": "bd4ce351-311b-444a-c83f-2dcd7bbb7189"
      },
      "outputs": [
        {
          "data": {
            "text/plain": [
              "array([[ 9,  9],\n",
              "       [ 5, 18],\n",
              "       [ 6, 47],\n",
              "       [ 7, 23],\n",
              "       [ 6, 16],\n",
              "       [ 7, 45],\n",
              "       [ 3,  5],\n",
              "       [ 2, 27],\n",
              "       [ 4, 42],\n",
              "       [ 8, 35]])"
            ]
          },
          "execution_count": 4,
          "metadata": {},
          "output_type": "execute_result"
        }
      ],
      "source": [
        "import numpy as np\n",
        "points = np.array(points)  # We are able to create numpy arrays from python lists.\n",
        "points"
      ]
    },
    {
      "cell_type": "markdown",
      "metadata": {
        "id": "WdKynhMYlWmc"
      },
      "source": [
        "### <font color=\"CornFlowerBlue\">Numpy Random Integers</font>\n",
        "\n",
        "<hr style=\"border:none; height: 4px; background-color:#D3D3D3\" />\n",
        "\n",
        "\n",
        "``` pyhton\n",
        "np.random.randint(low, high=None, size=None, dtype=int)\n",
        "```\n",
        "Return random integers from low (inclusive) to high (exclusive).\n",
        "\n",
        "Return random integers from the “discrete uniform” distribution of the specified dtype in the “half-open” interval `[low, high)`. If `high` is `None` (the default), then results are from `[0, low)`.\n",
        "\n",
        "Documentation: <a href=\"https://numpy.org/doc/stable/reference/random/generated/numpy.random.randint.html\" target=_blank>np.random.randint</a>\n",
        "\n",
        "<hr style=\"border:none; height: 4px; background-color:#D3D3D3\" />"
      ]
    },
    {
      "cell_type": "markdown",
      "metadata": {
        "id": "KqyRLbYElWmc"
      },
      "source": [
        "We can use the NumPy function `randint` to create an `ndarray` of points."
      ]
    },
    {
      "cell_type": "code",
      "execution_count": null,
      "metadata": {
        "id": "aNllZKfxHvHS",
        "outputId": "79d98cd3-40fa-4573-e8ca-73ba013fee18"
      },
      "outputs": [
        {
          "data": {
            "text/plain": [
              "array([[10, 44],\n",
              "       [ 0, 30],\n",
              "       [ 9, 44],\n",
              "       [ 4, 25],\n",
              "       [ 2, 31],\n",
              "       [ 0, 34],\n",
              "       [ 6, 38],\n",
              "       [ 8, 34],\n",
              "       [10, 12],\n",
              "       [ 3, 10]])"
            ]
          },
          "execution_count": 5,
          "metadata": {},
          "output_type": "execute_result"
        }
      ],
      "source": [
        "# Create random points using numpy library.\n",
        "num_dims = 2\n",
        "num_points = 10\n",
        "x_range = (0, 11)\n",
        "y_range = (0, 51)\n",
        "points = np.random.randint(\n",
        "    low=(x_range[0], y_range[0]), high=(x_range[1], y_range[1]), size=(num_points, num_dims)\n",
        ")\n",
        "points"
      ]
    },
    {
      "cell_type": "markdown",
      "metadata": {
        "id": "Tbmqr2WQHvHS"
      },
      "source": [
        "It may look as over-complication to use NumPy for the creation of such a list and we still cannot see the good sides of this approach. But let's take a look at the performance side."
      ]
    },
    {
      "cell_type": "code",
      "execution_count": null,
      "metadata": {
        "id": "uN16q92PHvHT"
      },
      "outputs": [],
      "source": [
        "num_dims = 2\n",
        "num_points = 100000\n",
        "x_range = (0, 10)\n",
        "y_range = (0, 50)"
      ]
    },
    {
      "cell_type": "markdown",
      "metadata": {
        "id": "urHvLj1PHvHU"
      },
      "source": [
        "### 2.1 Python Performance"
      ]
    },
    {
      "cell_type": "code",
      "execution_count": null,
      "metadata": {
        "id": "xf7_FuksHvHU",
        "outputId": "268fab17-3caf-4bf9-9b2c-1ee93ff89ab7"
      },
      "outputs": [
        {
          "name": "stdout",
          "output_type": "stream",
          "text": [
            "206 ms ± 6.88 ms per loop (mean ± std. dev. of 7 runs, 10 loops each)\n"
          ]
        }
      ],
      "source": [
        "%timeit \\\n",
        "points = [[randint(*x_range), randint(*y_range)] for _ in range(num_points)]"
      ]
    },
    {
      "cell_type": "markdown",
      "metadata": {
        "id": "XC6QdEIZHvHV"
      },
      "source": [
        "### 2.2 NumPy Performance"
      ]
    },
    {
      "cell_type": "code",
      "execution_count": null,
      "metadata": {
        "id": "2SaFbcB4HvHV",
        "outputId": "82f1ca3f-742a-4039-f982-bb31261e6943"
      },
      "outputs": [
        {
          "name": "stdout",
          "output_type": "stream",
          "text": [
            "3.5 ms ± 8.85 µs per loop (mean ± std. dev. of 7 runs, 100 loops each)\n"
          ]
        }
      ],
      "source": [
        "%timeit \\\n",
        "points = np.random.randint(low=(x_range[0], y_range[0]),  \\\n",
        "                           high=(x_range[1], y_range[1]), \\\n",
        "                           size=(num_points, num_dims))"
      ]
    },
    {
      "cell_type": "markdown",
      "metadata": {
        "id": "trY51LQKHvHW"
      },
      "source": [
        "Wow, NumPy is **about 35 times faster** than pure Python on this task! One may say that the size of the array we're generating is relatively large, but this pales in comparion by many orders of magnitude to the number of computations required to train a neural network as well see later in this course."
      ]
    },
    {
      "cell_type": "markdown",
      "metadata": {
        "id": "uXGKAko2HvHW"
      },
      "source": [
        "## 3 NumPy Basics\n",
        "In this section we will review some of the more useful operations of NumPy arrays, which are most commonly used in machine learning tasks."
      ]
    },
    {
      "cell_type": "markdown",
      "metadata": {
        "id": "tC3owzeBHvHX"
      },
      "source": [
        "### 3.1 Converting Lists to Arrays\n"
      ]
    },
    {
      "cell_type": "code",
      "execution_count": null,
      "metadata": {
        "id": "6g9SDKAFHvHX",
        "outputId": "e5c7a5d7-73a4-4d4c-ac2f-c5bee0f9f58b"
      },
      "outputs": [
        {
          "data": {
            "text/plain": [
              "array([ 1,  2,  3,  4,  5,  6,  7,  8,  9, 10])"
            ]
          },
          "execution_count": 9,
          "metadata": {},
          "output_type": "execute_result"
        }
      ],
      "source": [
        "py_list = [1, 2, 3, 4, 5, 6, 7, 8, 9, 10]\n",
        "\n",
        "np_array = np.array(py_list)\n",
        "np_array"
      ]
    },
    {
      "cell_type": "code",
      "execution_count": null,
      "metadata": {
        "id": "WZZ5OY1AHvHY",
        "outputId": "a3a2d716-6404-4adc-957f-9a633d7ecedf"
      },
      "outputs": [
        {
          "data": {
            "text/plain": [
              "array([[ 1,  2,  3],\n",
              "       [ 4,  5,  6],\n",
              "       [ 7,  8,  9],\n",
              "       [10, 11, 12]])"
            ]
          },
          "execution_count": 10,
          "metadata": {},
          "output_type": "execute_result"
        }
      ],
      "source": [
        "py_list = [[1, 2, 3], [4, 5, 6], [7, 8, 9], [10, 11, 12]]\n",
        "\n",
        "np_array= np.array(py_list)\n",
        "np_array"
      ]
    },
    {
      "cell_type": "markdown",
      "metadata": {
        "id": "jVaIfvQCHvHY"
      },
      "source": [
        "### 3.2 Slicing and Indexing"
      ]
    },
    {
      "cell_type": "code",
      "execution_count": null,
      "metadata": {
        "id": "2JXLgS3HHvHZ",
        "outputId": "88ad279f-9380-4a0a-f7a8-7d634a7e2fce"
      },
      "outputs": [
        {
          "name": "stdout",
          "output_type": "stream",
          "text": [
            "First row:\t\t\t[1 2 3]\n",
            "\n",
            "First row:\t\t\t[1 2 3]\n",
            "\n",
            "First column:\t\t\t[ 1  4  7 10]\n",
            "\n",
            "3rd row 2nd column element:\t8\n",
            "\n",
            "2nd row onwards and 2nd column onwards :\n",
            "[[ 5  6]\n",
            " [ 8  9]\n",
            " [11 12]]\n",
            "\n",
            "Last 2 rows and last 2 columns:\n",
            "[[ 8  9]\n",
            " [11 12]]\n",
            "\n",
            "Array with 3rd, 1st, and 4th row:\n",
            "[[ 7  8  9]\n",
            " [ 1  2  3]\n",
            " [10 11 12]]\n",
            "\n",
            "Array with 1st and 3rd col:\n",
            "[[ 1  3]\n",
            " [ 4  6]\n",
            " [ 7  9]\n",
            " [10 12]]\n",
            "\n"
          ]
        }
      ],
      "source": [
        "print('First row:\\t\\t\\t{}\\n'.format(np_array[0]))\n",
        "print('First row:\\t\\t\\t{}\\n'.format(np_array[0, :]))\n",
        "print('First column:\\t\\t\\t{}\\n'.format(np_array[:, 0]))\n",
        "print('3rd row 2nd column element:\\t{}\\n'.format(np_array[2, 1]))\n",
        "print('2nd row onwards and 2nd column onwards :\\n{}\\n'.format(np_array[1:, 1:]))\n",
        "print('Last 2 rows and last 2 columns:\\n{}\\n'.format(np_array[-2:, -2:]))\n",
        "print('Array with 3rd, 1st, and 4th row:\\n{}\\n'.format(np_array[[2, 0, 3]]))\n",
        "print('Array with 1st and 3rd col:\\n{}\\n'.format(np_array[:, [0, 2]]))"
      ]
    },
    {
      "cell_type": "markdown",
      "metadata": {
        "id": "lhRDlKH3HvHZ"
      },
      "source": [
        "### 3.3 Basic Attributes of NumPy Arrays\n",
        "\n",
        "Get a full list of attributes of an ndarray object <a href=\"https://numpy.org/doc/stable/reference/generated/numpy.ndarray.html\" target=_blank>here</a>."
      ]
    },
    {
      "cell_type": "code",
      "execution_count": null,
      "metadata": {
        "id": "O8K4ohLiHvHZ",
        "outputId": "85f99c03-b447-4666-9539-b7bd01707086"
      },
      "outputs": [
        {
          "name": "stdout",
          "output_type": "stream",
          "text": [
            "Data type:\tint32\n",
            "Array shape:\t(4, 3)\n"
          ]
        }
      ],
      "source": [
        "print('Data type:\\t{}'.format(np_array.dtype))\n",
        "print('Array shape:\\t{}'.format(np_array.shape))"
      ]
    },
    {
      "cell_type": "markdown",
      "metadata": {
        "id": "So6vlHdXHvHa"
      },
      "source": [
        "### <font color=\"CornFlowerBlue\">Create a convenience function for printing array information</font>\n",
        "\n",
        "Let's create a conveneinece function (with name `array_info`) to print the NumPy array data, its shape, and its data type. We will use this function to print various arrays further below in this notebook."
      ]
    },
    {
      "cell_type": "code",
      "execution_count": null,
      "metadata": {
        "id": "dqPfdr80HvHa",
        "outputId": "af997059-3b71-4339-dcc6-48c8b4a2877e"
      },
      "outputs": [
        {
          "name": "stdout",
          "output_type": "stream",
          "text": [
            "Array:\n",
            "[[ 1  2  3]\n",
            " [ 4  5  6]\n",
            " [ 7  8  9]\n",
            " [10 11 12]]\n",
            "Data type:\tint32\n",
            "Array shape:\t(4, 3)\n",
            "\n"
          ]
        }
      ],
      "source": [
        "def array_info(array):\n",
        "    print('Array:\\n{}'.format(array))\n",
        "    print('Data type:\\t{}'.format(array.dtype))\n",
        "    print('Array shape:\\t{}\\n'.format(array.shape))\n",
        "\n",
        "array_info(np_array)"
      ]
    },
    {
      "cell_type": "markdown",
      "metadata": {
        "id": "OddsTaAMHvHa"
      },
      "source": [
        "### 3.4 Creating NumPy Arrays Using Built-in Functions and Datatypes\n",
        "\n",
        "The full list of supported data types can be found <a href=\"https://numpy.org/devdocs/user/basics.types.html\" target=_blank>here</a>.\n"
      ]
    },
    {
      "cell_type": "markdown",
      "metadata": {
        "id": "gF2F7iJnHvHa"
      },
      "source": [
        "### <font color=\"CornFlowerBlue\">Sequence Arrays: arange</font>\n",
        "\n",
        "<hr style=\"border:none; height: 4px; background-color:#D3D3D3\" />\n",
        "\n",
        "``` python\n",
        "np.arange([start, ]stop, [step, ]dtype=None)\n",
        "```\n",
        "\n",
        "Return evenly spaced values in `[start, stop)`.\n",
        "\n",
        "Documentation: <a href=\"https://numpy.org/doc/stable/reference/generated/numpy.arange.html\" target=_blank>np.arange</a>\n",
        "\n",
        "<hr style=\"border:none; height: 4px; background-color:#D3D3D3\" />"
      ]
    },
    {
      "cell_type": "code",
      "execution_count": null,
      "metadata": {
        "id": "nOeXSQopHvHb",
        "outputId": "166e51e1-76d9-4ea5-a4e9-7d34df9acd9a"
      },
      "outputs": [
        {
          "name": "stdout",
          "output_type": "stream",
          "text": [
            "Array:\n",
            "[0 1 2 3 4 5 6 7 8 9]\n",
            "Data type:\tint64\n",
            "Array shape:\t(10,)\n",
            "\n"
          ]
        }
      ],
      "source": [
        "# Sequence array.\n",
        "array = np.arange(10, dtype=np.int64)\n",
        "array_info(array)"
      ]
    },
    {
      "cell_type": "code",
      "execution_count": null,
      "metadata": {
        "id": "hdnMHrz_HvHb",
        "outputId": "74bdf71b-ff36-49fd-8963-9629fb3a4bff"
      },
      "outputs": [
        {
          "name": "stdout",
          "output_type": "stream",
          "text": [
            "Array:\n",
            "[5. 7. 9.]\n",
            "Data type:\tfloat32\n",
            "Array shape:\t(3,)\n",
            "\n"
          ]
        }
      ],
      "source": [
        "# Sequence array.\n",
        "array = np.arange(5, 10, 2, dtype=np.float32)\n",
        "array_info(array)"
      ]
    },
    {
      "cell_type": "markdown",
      "metadata": {
        "id": "R-rhyqSfHvHg"
      },
      "source": [
        "### <font color=\"CornFlowerBlue\">Sequence Arrays: linspace</font>\n",
        "\n",
        "<hr style=\"border:none; height: 4px; background-color:#D3D3D3\" />\n",
        "\n",
        "``` python\n",
        "np.linspace(start, stop, num=50, endpoint=True, retstep=False, dtype=None, axis=0)\n",
        "```\n",
        "\n",
        "Returns num evenly spaced samples, calculated over the interval `[start, stop]`.\n",
        "\n",
        "Note that `linspace` allows you to specify the number of values and infers the step size, while `arange` allows you to specify the steps size and infers the number of points. `linspace` also allows you to speficiy whether or not the endpoint is included.\n",
        "\n",
        "Documentation: <a href=\"https://numpy.org/doc/stable/reference/generated/numpy.linspace.html\" target=_blank>np.linspace</a>\n",
        "\n",
        "<hr style=\"border:none; height: 4px; background-color:#D3D3D3\" />"
      ]
    },
    {
      "cell_type": "code",
      "execution_count": null,
      "metadata": {
        "id": "HKaOPlbTHvHg",
        "outputId": "8f0bb8ac-a3d8-4ccc-d4bb-22d6114a975c"
      },
      "outputs": [
        {
          "name": "stdout",
          "output_type": "stream",
          "text": [
            "Array:\n",
            "[0.        0.8333333 1.6666666 2.5       3.3333333 4.1666665 5.       ]\n",
            "Data type:\tfloat32\n",
            "Array shape:\t(7,)\n",
            "\n"
          ]
        }
      ],
      "source": [
        "# Linspace.\n",
        "linespace = np.linspace(0, 5, 7, dtype=np.float32)   # 7 elements between 0 and 5\n",
        "array_info(linespace)"
      ]
    },
    {
      "cell_type": "markdown",
      "metadata": {
        "id": "I1Pg_DjMHvHb"
      },
      "source": [
        "### <font color=\"CornFlowerBlue\">Zeros Array</font>"
      ]
    },
    {
      "cell_type": "code",
      "execution_count": null,
      "metadata": {
        "id": "GJjS17oAHvHb",
        "outputId": "5d47c8b9-55e0-486c-9e58-820ea124255a"
      },
      "outputs": [
        {
          "name": "stdout",
          "output_type": "stream",
          "text": [
            "Array:\n",
            "[[0. 0. 0.]\n",
            " [0. 0. 0.]]\n",
            "Data type:\tfloat32\n",
            "Array shape:\t(2, 3)\n",
            "\n"
          ]
        }
      ],
      "source": [
        "# Zero array/matrix.\n",
        "zeros = np.zeros((2, 3), dtype=np.float32)\n",
        "array_info(zeros)"
      ]
    },
    {
      "cell_type": "markdown",
      "metadata": {
        "id": "0Q1oA6x9HvHc"
      },
      "source": [
        "### <font color=\"CornFlowerBlue\">Ones Array</font>"
      ]
    },
    {
      "cell_type": "code",
      "execution_count": null,
      "metadata": {
        "id": "fAjEam7jHvHc",
        "outputId": "8f459cce-aea4-4357-9345-8922b304625c"
      },
      "outputs": [
        {
          "name": "stdout",
          "output_type": "stream",
          "text": [
            "Array:\n",
            "[[1 1]\n",
            " [1 1]\n",
            " [1 1]]\n",
            "Data type:\tint8\n",
            "Array shape:\t(3, 2)\n",
            "\n"
          ]
        }
      ],
      "source": [
        "# Ones array/matrix.\n",
        "ones = np.ones((3, 2), dtype=np.int8)\n",
        "array_info(ones)"
      ]
    },
    {
      "cell_type": "markdown",
      "metadata": {
        "id": "ukbdvuo-HvHc"
      },
      "source": [
        "### <font color=\"CornFlowerBlue\">Constant Array</font>"
      ]
    },
    {
      "cell_type": "code",
      "execution_count": null,
      "metadata": {
        "id": "iNsCeRLPHvHd",
        "outputId": "7a278164-4ae1-48ba-be09-e4feb2a385b5"
      },
      "outputs": [
        {
          "name": "stdout",
          "output_type": "stream",
          "text": [
            "Array:\n",
            "[[3.14 3.14 3.14]\n",
            " [3.14 3.14 3.14]\n",
            " [3.14 3.14 3.14]]\n",
            "Data type:\tfloat64\n",
            "Array shape:\t(3, 3)\n",
            "\n"
          ]
        }
      ],
      "source": [
        "# Constant array/matrix.\n",
        "array = np.full((3, 3), 3.14)\n",
        "array_info(array)"
      ]
    },
    {
      "cell_type": "markdown",
      "metadata": {
        "id": "vvqAqN1THvHd"
      },
      "source": [
        "### <font color=\"CornFlowerBlue\">Identity Array</font>"
      ]
    },
    {
      "cell_type": "code",
      "execution_count": null,
      "metadata": {
        "id": "vyYfQbK3HvHd",
        "outputId": "d8d58f17-971b-4250-ec9e-851fd2663e62"
      },
      "outputs": [
        {
          "name": "stdout",
          "output_type": "stream",
          "text": [
            "Array:\n",
            "[[1. 0. 0. 0. 0.]\n",
            " [0. 1. 0. 0. 0.]\n",
            " [0. 0. 1. 0. 0.]\n",
            " [0. 0. 0. 1. 0.]\n",
            " [0. 0. 0. 0. 1.]]\n",
            "Data type:\tfloat32\n",
            "Array shape:\t(5, 5)\n",
            "\n"
          ]
        }
      ],
      "source": [
        "# Identity array/matrix.\n",
        "identity = np.eye(5, dtype=np.float32)  # Identity matrix of shape 5x5\n",
        "array_info(identity)"
      ]
    },
    {
      "cell_type": "markdown",
      "metadata": {
        "id": "ULCiPXqpHvHd"
      },
      "source": [
        "### <font color=\"CornFlowerBlue\">Random Integers Array</font>\n",
        "\n",
        "<hr style=\"border:none; height: 4px; background-color:#D3D3D3\" />\n",
        "\n",
        "``` python\n",
        "np.random.randint(low, high=None, size=None, dtype='l')\n",
        "```\n",
        "Return random integer from the `discrete uniform` distribution in `[low, high)`. If high is `None`, then return elements are in `[0, low)`\n",
        "\n",
        "Documentation: <a href=\"https://numpy.org/doc/stable/reference/random/generated/numpy.random.randint.html\" target=_blank>np.random.randint</a>\n",
        "\n",
        "<hr style=\"border:none; height: 4px; background-color:#D3D3D3\" />"
      ]
    },
    {
      "cell_type": "code",
      "execution_count": null,
      "metadata": {
        "id": "pDymeIfMHvHe",
        "outputId": "3dab5d85-c55c-4667-eb48-b7e3ded42349"
      },
      "outputs": [
        {
          "name": "stdout",
          "output_type": "stream",
          "text": [
            "Array:\n",
            "[[6 7 5]\n",
            " [9 6 6]]\n",
            "Data type:\tint32\n",
            "Array shape:\t(2, 3)\n",
            "\n"
          ]
        }
      ],
      "source": [
        "# Random integers array/matrix.\n",
        "rand_int = np.random.randint(5, 10, (2,3)) # Random integer array of shape 2x3, values lies in [5, 10).\n",
        "array_info(rand_int)"
      ]
    },
    {
      "cell_type": "markdown",
      "metadata": {
        "id": "zaO4PVWQHvHe"
      },
      "source": [
        "### <font color=\"CornFlowerBlue\">Random Array</font>\n",
        "\n",
        "<hr style=\"border:none; height: 4px; background-color:#D3D3D3\" />\n",
        "\n",
        "``` python\n",
        "np.random.random(size=None)\n",
        "```\n",
        "\n",
        "Return random floats in the half-open interval `[0.0, 1.0)`.\n",
        "\n",
        "Results are from the `continuous uniform` distribution in `[0.0, 1.0)`.\n",
        "\n",
        "Documentation: <a href=\"https://numpy.org/doc/stable/reference/random/generated/numpy.random.random.html#numpy-random-random\" target=_blank>np.random.random</a>\n",
        "\n",
        "<hr style=\"border:none; height: 4px; background-color:#D3D3D3\" />"
      ]
    },
    {
      "cell_type": "code",
      "execution_count": null,
      "metadata": {
        "id": "nvrWSdY_HvHe",
        "outputId": "7f4654a2-6033-45d6-9ff8-64c91afe0ff7"
      },
      "outputs": [
        {
          "name": "stdout",
          "output_type": "stream",
          "text": [
            "Array:\n",
            "[[0.05895785 0.97584925 0.61851749 0.91807735 0.20773511]\n",
            " [0.41814773 0.69043864 0.46579991 0.96900877 0.361576  ]\n",
            " [0.55125011 0.26091529 0.4094983  0.98888228 0.24258659]\n",
            " [0.22430972 0.80618191 0.49751464 0.86630376 0.63467053]\n",
            " [0.362403   0.49147104 0.30757364 0.00550166 0.70009507]]\n",
            "Data type:\tfloat64\n",
            "Array shape:\t(5, 5)\n",
            "\n"
          ]
        }
      ],
      "source": [
        "# Random array/matrix.\n",
        "random_array = np.random.random((5, 5))   # Random array of shape 5x5.\n",
        "array_info(random_array)"
      ]
    },
    {
      "cell_type": "markdown",
      "metadata": {
        "id": "jGSFzmIIHvHe"
      },
      "source": [
        "### <font color=\"CornFlowerBlue\">Boolean Array</font>\n",
        "\n",
        "If we compare above `random_array` with some `constant` or `array` of the same shape, we will get a boolean array."
      ]
    },
    {
      "cell_type": "code",
      "execution_count": null,
      "metadata": {
        "id": "uAvaB5nHHvHf",
        "outputId": "ed83b6fa-6372-4f87-f695-7e06228983c6"
      },
      "outputs": [
        {
          "name": "stdout",
          "output_type": "stream",
          "text": [
            "Array:\n",
            "[[False  True  True  True False]\n",
            " [False  True False  True False]\n",
            " [ True False False  True False]\n",
            " [False  True False  True  True]\n",
            " [False False False False  True]]\n",
            "Data type:\tbool\n",
            "Array shape:\t(5, 5)\n",
            "\n"
          ]
        }
      ],
      "source": [
        "# Boolean array/matrix.\n",
        "bool_array = random_array > 0.5\n",
        "array_info(bool_array)"
      ]
    },
    {
      "cell_type": "markdown",
      "metadata": {
        "id": "7rq3mOrUHvHf"
      },
      "source": [
        "The boolean array can be used to get value from the array. For example, If we use a boolean array of the same shape as a numerical array, we will get those values for which the boolean array is True, and other values will be masked.\n",
        "\n",
        "Let's use the above `boolen_array` to get values from `random_array`."
      ]
    },
    {
      "cell_type": "code",
      "execution_count": null,
      "metadata": {
        "id": "H0uXE08eHvHf",
        "outputId": "6fd68da0-5447-46af-d7fb-65e5ffab7d1a"
      },
      "outputs": [
        {
          "name": "stdout",
          "output_type": "stream",
          "text": [
            "Array:\n",
            "[0.97584925 0.61851749 0.91807735 0.69043864 0.96900877 0.55125011\n",
            " 0.98888228 0.80618191 0.86630376 0.63467053 0.70009507]\n",
            "Data type:\tfloat64\n",
            "Array shape:\t(11,)\n",
            "\n"
          ]
        }
      ],
      "source": [
        "# Use boolean array/matrix to get values from array/matrix.\n",
        "values = random_array[bool_array]\n",
        "array_info(values)"
      ]
    },
    {
      "cell_type": "markdown",
      "metadata": {
        "id": "oSDR2eeVHvHf"
      },
      "source": [
        "Basically, from the above method, we are filtering values that are greater than `0.5`."
      ]
    },
    {
      "cell_type": "markdown",
      "metadata": {
        "id": "Zrg9IVWaHvHg"
      },
      "source": [
        "### 3.5 Data Type Conversion\n",
        "\n",
        "Sometimes it is necessary to convert one data type to another data type."
      ]
    },
    {
      "cell_type": "code",
      "execution_count": null,
      "metadata": {
        "id": "xouNqvdPHvHg",
        "outputId": "e9f227c4-f206-460a-99db-d84ebc5ca132"
      },
      "outputs": [
        {
          "name": "stdout",
          "output_type": "stream",
          "text": [
            "Array:\n",
            "[24 52 26 15 73 98 16 17 68 17]\n",
            "Data type:\tint32\n",
            "Array shape:\t(10,)\n",
            "\n"
          ]
        }
      ],
      "source": [
        "age_in_years = np.random.randint(0, 100, 10)\n",
        "array_info(age_in_years)"
      ]
    },
    {
      "cell_type": "markdown",
      "metadata": {
        "id": "Iv49hTkJHvHg"
      },
      "source": [
        "Do we really need an `int64` data type to store age?\n",
        "\n",
        "So let's convert it to `uint8`."
      ]
    },
    {
      "cell_type": "code",
      "execution_count": null,
      "metadata": {
        "id": "OBsb_FtyHvHh",
        "outputId": "d0ded712-4a64-4bef-825f-e42f327b0760"
      },
      "outputs": [
        {
          "name": "stdout",
          "output_type": "stream",
          "text": [
            "Array:\n",
            "[24 52 26 15 73 98 16 17 68 17]\n",
            "Data type:\tuint8\n",
            "Array shape:\t(10,)\n",
            "\n"
          ]
        }
      ],
      "source": [
        "age_in_years = age_in_years.astype(np.uint8)\n",
        "array_info(age_in_years)"
      ]
    },
    {
      "cell_type": "markdown",
      "metadata": {
        "id": "v2m6_QkFHvHh"
      },
      "source": [
        "Let's convert it to `float64`. 😜"
      ]
    },
    {
      "cell_type": "code",
      "execution_count": null,
      "metadata": {
        "id": "JUTCsGZhHvHh",
        "outputId": "b73ef3ce-9ed0-43e7-9419-ac50507df18a"
      },
      "outputs": [
        {
          "name": "stdout",
          "output_type": "stream",
          "text": [
            "Array:\n",
            "[24. 52. 26. 15. 73. 98. 16. 17. 68. 17.]\n",
            "Data type:\tfloat64\n",
            "Array shape:\t(10,)\n",
            "\n"
          ]
        }
      ],
      "source": [
        "age_in_years = age_in_years.astype(np.float64)\n",
        "array_info(age_in_years)"
      ]
    },
    {
      "cell_type": "markdown",
      "metadata": {
        "id": "fwk8CPN1HvHi"
      },
      "source": [
        "## 4 Mathematical Functions\n",
        "\n",
        "Numpy supports a lot of Mathematical operations with array/matrix. Here we will see a few of them which are useful in Deep Learning. All supported functions can be found <a href=\"https://docs.scipy.org/doc/numpy-1.13.0/reference/routines.math.html\" target=_blank>here</a>."
      ]
    },
    {
      "cell_type": "markdown",
      "metadata": {
        "id": "QJWb_1flHvHi"
      },
      "source": [
        "### 4.1. Exponential Function\n",
        "\n",
        "<hr style=\"border:none; height: 4px; background-color:#D3D3D3\" />\n",
        "\n",
        "Exponential functions ( also called `exp` ) are used in neural networks as activation functions. They are used in softmax functions which are widely used in Classification tasks.\n",
        "\n",
        "\n",
        "``` python\n",
        "np.exp(x)\n",
        "```\n",
        "\n",
        "Calculate the exponential of all elements in the input array.\n",
        "\n",
        "Return element-wise `exponential` of `array`.\n",
        "\n",
        "Documentation: <a href=\"https://numpy.org/doc/stable/reference/generated/numpy.exp.html\" target=_blank>np.exp</a>\n",
        "\n",
        "<hr style=\"border:none; height: 4px; background-color:#D3D3D3\" />"
      ]
    },
    {
      "cell_type": "code",
      "execution_count": null,
      "metadata": {
        "id": "Kx34jMjnHvHi",
        "outputId": "d654747f-930f-40f0-d6b8-89d7d80dc21f"
      },
      "outputs": [
        {
          "name": "stdout",
          "output_type": "stream",
          "text": [
            "Array:\n",
            "[[-1. -1. -1.]\n",
            " [ 0.  0.  0.]\n",
            " [ 1.  1.  1.]]\n",
            "Data type:\tfloat64\n",
            "Array shape:\t(3, 3)\n",
            "\n",
            "Exponential of an array:\n",
            "Array:\n",
            "[[0.36787944 0.36787944 0.36787944]\n",
            " [1.         1.         1.        ]\n",
            " [2.71828183 2.71828183 2.71828183]]\n",
            "Data type:\tfloat64\n",
            "Array shape:\t(3, 3)\n",
            "\n"
          ]
        }
      ],
      "source": [
        "array = np.array([np.full(3, -1), np.zeros(3), np.ones(3)])\n",
        "array_info(array)\n",
        "\n",
        "# Exponential of a array/matrix\n",
        "print('Exponential of an array:')\n",
        "exp_array = np.exp(array)\n",
        "array_info(exp_array)"
      ]
    },
    {
      "cell_type": "markdown",
      "metadata": {
        "id": "ta8t7QETHvHi"
      },
      "source": [
        "### 4.2 Square Root\n",
        "\n",
        "<hr style=\"border:none; height: 4px; background-color:#D3D3D3\" />\n",
        "\n",
        "Root Mean Square Error (RMSE) is commonly used to measure the accuracy of continuous variables. We will use the `sqrt` function to compute such quantities later in the course.\n",
        "\n",
        "\n",
        "``` python\n",
        "np.sqrt(x)\n",
        "```\n",
        "\n",
        "Return the non-negative square root of an array, element-wise.\n",
        "\n",
        "Documentation: <a href=\"https://numpy.org/doc/stable/reference/generated/numpy.sqrt.html\" target=_blank>np.sqrt</a>\n",
        "\n",
        "<hr style=\"border:none; height: 4px; background-color:#D3D3D3\" />"
      ]
    },
    {
      "cell_type": "code",
      "execution_count": null,
      "metadata": {
        "id": "G81lL3ETHvHj",
        "outputId": "33db6f03-5e31-4501-fdb1-62b0facdc772"
      },
      "outputs": [
        {
          "name": "stdout",
          "output_type": "stream",
          "text": [
            "Array:\n",
            "[0 1 2 3 4 5 6 7 8 9]\n",
            "Data type:\tint32\n",
            "Array shape:\t(10,)\n",
            "\n",
            "Square root:\n",
            "Array:\n",
            "[0.         1.         1.41421356 1.73205081 2.         2.23606798\n",
            " 2.44948974 2.64575131 2.82842712 3.        ]\n",
            "Data type:\tfloat64\n",
            "Array shape:\t(10,)\n",
            "\n"
          ]
        }
      ],
      "source": [
        "array = np.arange(10)\n",
        "array_info(array)\n",
        "\n",
        "print('Square root:')\n",
        "root_array = np.sqrt(array)\n",
        "array_info(root_array)"
      ]
    },
    {
      "cell_type": "markdown",
      "metadata": {
        "id": "NoknwkKbHvHj"
      },
      "source": [
        "### 4.3 Logarithm\n",
        "\n",
        "<hr style=\"border:none; height: 4px; background-color:#D3D3D3\" />\n",
        "\n",
        "'Cross-Entropy' and 'Log Loss' are the most commonly used loss functions in Machine Learning classification problems. We will use the `log` function to compute such quantities.\n",
        "\n",
        "``` python\n",
        "np.log(x)\n",
        "```\n",
        "\n",
        "Natural logarithm, element-wise.\n",
        "\n",
        "The natural logarithm `log` is the inverse of the exponential function, so that `log(exp(x)) = x`. The natural logarithm is logarithm in base `e`.\n",
        "\n",
        "Documentation: <a href=\"https://numpy.org/doc/stable/reference/generated/numpy.log.html\" target=_blank>np.log</a>\n",
        "\n",
        "\n",
        "\n",
        "<hr style=\"border:none; height: 4px; background-color:#D3D3D3\" />"
      ]
    },
    {
      "cell_type": "code",
      "execution_count": null,
      "metadata": {
        "id": "N-IpMFftHvHj",
        "outputId": "2ec28aa7-13ae-46ec-ffe4-e3881ede944e"
      },
      "outputs": [
        {
          "name": "stdout",
          "output_type": "stream",
          "text": [
            "Array:\n",
            "[ 0.          2.71828183  7.3890561   1.         10.        ]\n",
            "Data type:\tfloat64\n",
            "Array shape:\t(5,)\n",
            "\n",
            "Logarithm:\n",
            "Array:\n",
            "[      -inf 1.         2.         0.         2.30258509]\n",
            "Data type:\tfloat64\n",
            "Array shape:\t(5,)\n",
            "\n"
          ]
        },
        {
          "name": "stderr",
          "output_type": "stream",
          "text": [
            "C:\\Users\\vaibh\\AppData\\Local\\Temp\\ipykernel_8892\\333091826.py:5: RuntimeWarning: divide by zero encountered in log\n",
            "  log_array = np.log(array)\n"
          ]
        }
      ],
      "source": [
        "array = np.array([0, np.exp(1), np.exp(1)**2, 1, 10])\n",
        "array_info(array)\n",
        "\n",
        "print('Logarithm:')\n",
        "log_array = np.log(array)\n",
        "array_info(log_array)"
      ]
    },
    {
      "cell_type": "markdown",
      "metadata": {
        "id": "VnvBWa0EHvHj"
      },
      "source": [
        "<font color='red'>**Note:** Warning is indicated because we are trying to calculate `log(0)`.</font>"
      ]
    },
    {
      "cell_type": "markdown",
      "metadata": {
        "id": "HsH0geFSHvHk"
      },
      "source": [
        "### 4.4 Power\n",
        "\n",
        "<hr style=\"border:none; height: 4px; background-color:#D3D3D3\" />\n",
        "\n",
        "``` python\n",
        "np.power(x1, x2)\n",
        "```\n",
        "Returns first array elements raised to powers from second array, element-wise.\n",
        "\n",
        "Raise each base in `x1` to the positionally-corresponding power in `x2`. `x1` and `x2` must be broadcastable to the same shape. Note that an integer type raised to a negative integer power will raise a ValueError.\n",
        "\n",
        "What is **broadcasting**? We will see later.\n",
        "\n",
        "Documentation: <a href=\"https://numpy.org/doc/stable/reference/generated/numpy.power.html\" target=_blank>np.power</a>\n",
        "\n",
        "<hr style=\"border:none; height: 4px; background-color:#D3D3D3\" />"
      ]
    },
    {
      "cell_type": "code",
      "execution_count": null,
      "metadata": {
        "id": "IPXG75kvHvHk",
        "outputId": "ac7be27e-d6d4-46ea-8b11-28e0a4b5ffae"
      },
      "outputs": [
        {
          "name": "stdout",
          "output_type": "stream",
          "text": [
            "Array:\n",
            "[0 1 2 3 4 5]\n",
            "Data type:\tint64\n",
            "Array shape:\t(6,)\n",
            "\n",
            "Power 3:\n",
            "Array:\n",
            "[  0   1   8  27  64 125]\n",
            "Data type:\tint64\n",
            "Array shape:\t(6,)\n",
            "\n"
          ]
        }
      ],
      "source": [
        "array = np.arange(0, 6, dtype=np.int64)\n",
        "array_info(array)\n",
        "\n",
        "print('Power 3:')\n",
        "pow_array = np.power(array, 3)\n",
        "array_info(pow_array)"
      ]
    },
    {
      "cell_type": "markdown",
      "metadata": {
        "id": "0z8o9ZfMHvHk"
      },
      "source": [
        "### 4.5 Clip Values\n",
        "\n",
        "<hr style=\"border:none; height: 4px; background-color:#D3D3D3\" />\n",
        "\n",
        "``` python\n",
        "np.clip(a, a_min, a_max)\n",
        "```\n",
        "\n",
        "Clip (limit) the values in an array. Return element-wise clipped values between `a_min` and `a_max`.\n",
        "\n",
        "Documentation:  <a href=\"https://numpy.org/doc/stable/reference/generated/numpy.clip.html\" target=_blank>np.clip</a>\n",
        "\n",
        "<hr style=\"border:none; height: 4px; background-color:#D3D3D3\" />"
      ]
    },
    {
      "cell_type": "code",
      "execution_count": null,
      "metadata": {
        "id": "B-MquMQMHvHl",
        "outputId": "1a2c42ce-e202-49a8-8794-1dcb90c6e684"
      },
      "outputs": [
        {
          "name": "stdout",
          "output_type": "stream",
          "text": [
            "Array:\n",
            "[[0.33110926 0.88180262 0.43539401]\n",
            " [0.61913961 0.32578066 0.14985472]\n",
            " [0.15753426 0.399099   0.46209346]]\n",
            "Data type:\tfloat64\n",
            "Array shape:\t(3, 3)\n",
            "\n",
            "Clipped between 0.2 and 0.5\n",
            "Array:\n",
            "[[0.33110926 0.5        0.43539401]\n",
            " [0.5        0.32578066 0.2       ]\n",
            " [0.2        0.399099   0.46209346]]\n",
            "Data type:\tfloat64\n",
            "Array shape:\t(3, 3)\n",
            "\n",
            "Clipped to 0.2\n",
            "Array:\n",
            "[[0.33110926 0.88180262 0.43539401]\n",
            " [0.61913961 0.32578066 0.2       ]\n",
            " [0.2        0.399099   0.46209346]]\n",
            "Data type:\tfloat64\n",
            "Array shape:\t(3, 3)\n",
            "\n"
          ]
        }
      ],
      "source": [
        "array = np.random.random((3, 3))\n",
        "array_info(array)\n",
        "\n",
        "# Clipped between 0.2 and 0.5\n",
        "print('Clipped between 0.2 and 0.5')\n",
        "cliped_array = np.clip(array, 0.2, 0.5)\n",
        "array_info(cliped_array)\n",
        "\n",
        "# Clipped to 0.2\n",
        "print('Clipped to 0.2')\n",
        "cliped_array = np.clip(array, 0.2, np.inf)\n",
        "array_info(cliped_array)"
      ]
    },
    {
      "cell_type": "markdown",
      "metadata": {
        "id": "0I8ULo8zHvH6"
      },
      "source": [
        "## 5. Additional References\n",
        "\n",
        "* https://numpy.org/doc/stable/\n",
        "* https://numpy.org/devdocs/user/quickstart.html\n",
        "* https://numpy.org/numpy-tutorials/index.html\n",
        "\n"
      ]
    },
    {
      "cell_type": "code",
      "execution_count": null,
      "metadata": {
        "id": "LN9ohY1uHvH6"
      },
      "outputs": [],
      "source": []
    }
  ],
  "metadata": {
    "colab": {
      "collapsed_sections": [
        "OddsTaAMHvHa"
      ],
      "provenance": [],
      "include_colab_link": true
    },
    "jupytext": {
      "encoding": "# -*- coding: utf-8 -*-",
      "formats": "ipynb,py:light"
    },
    "kernelspec": {
      "display_name": "Python 3 (ipykernel)",
      "language": "python",
      "name": "python3"
    },
    "language_info": {
      "codemirror_mode": {
        "name": "ipython",
        "version": 3
      },
      "file_extension": ".py",
      "mimetype": "text/x-python",
      "name": "python",
      "nbconvert_exporter": "python",
      "pygments_lexer": "ipython3",
      "version": "3.10.10"
    },
    "latex_envs": {
      "LaTeX_envs_menu_present": true,
      "autoclose": false,
      "autocomplete": true,
      "bibliofile": "biblio.bib",
      "cite_by": "apalike",
      "current_citInitial": 1,
      "eqLabelWithNumbers": true,
      "eqNumInitial": 1,
      "hotkeys": {
        "equation": "Ctrl-E",
        "itemize": "Ctrl-I"
      },
      "labels_anchors": false,
      "latex_user_defs": false,
      "report_style_numbering": false,
      "user_envs_cfg": false
    },
    "toc": {
      "base_numbering": 1,
      "nav_menu": {},
      "number_sections": false,
      "sideBar": true,
      "skip_h1_title": false,
      "title_cell": "Table of Contents",
      "title_sidebar": "Contents",
      "toc_cell": false,
      "toc_position": {},
      "toc_section_display": true,
      "toc_window_display": false
    },
    "varInspector": {
      "cols": {
        "lenName": 16,
        "lenType": 16,
        "lenVar": 40
      },
      "kernels_config": {
        "python": {
          "delete_cmd_postfix": "",
          "delete_cmd_prefix": "del ",
          "library": "var_list.py",
          "varRefreshCmd": "print(var_dic_list())"
        },
        "r": {
          "delete_cmd_postfix": ") ",
          "delete_cmd_prefix": "rm(",
          "library": "var_list.r",
          "varRefreshCmd": "cat(var_dic_list()) "
        }
      },
      "types_to_exclude": [
        "module",
        "function",
        "builtin_function_or_method",
        "instance",
        "_Feature"
      ],
      "window_display": false
    }
  },
  "nbformat": 4,
  "nbformat_minor": 0
}